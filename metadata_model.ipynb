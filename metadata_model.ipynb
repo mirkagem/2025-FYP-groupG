{
 "cells": [
  {
   "cell_type": "code",
   "execution_count": null,
   "id": "98f65b1e",
   "metadata": {},
   "outputs": [
    {
     "name": "stdout",
     "output_type": "stream",
     "text": [
      "x_train : (1179, 5)\n",
      "y_train : (1179,)\n",
      "x_test : (295, 5)\n",
      "y_test : (295,)\n"
     ]
    },
    {
     "data": {
      "image/png": "[encoded data removed]",
      "text/plain": [
       "<Figure size 640x480 with 1 Axes>"
      ]
     },
     "metadata": {},
     "output_type": "display_data"
    }
   ],
   "source": [
    "import pandas as pd\n",
    "from sklearn.ensemble import RandomForestClassifier\n",
    "from sklearn.model_selection import train_test_split, StratifiedKFold, GridSearchCV\n",
    "from sklearn.metrics import accuracy_score, classification_report, confusion_matrix, recall_score\n",
    "import matplotlib.pyplot as plt\n",
    "import seaborn as sns\n",
    "import numpy as np\n",
    "\n",
    "df = pd.read_csv(r\"C:\\Users\\Mirka Gemelova\\Downloads\\df (1)\") #change this path!!\n",
    "\n",
    "y = df['diagnostic'].copy() #column with verdict: cancer or not cancer\n",
    "best_features = ['itch','grew','hurt','bleed','elevation']\n",
    "#best_features = \n",
    "x = df[best_features]\n",
    "\n",
    "#Deviding into train and test\n",
    "x_train, x_test, y_train, y_test = train_test_split(x, y, test_size=0.2, stratify=y, random_state=101) #stratify = y makes sure that both training and test sets preserve the original class proportions.\n",
    "\n",
    "#This gives us:\n",
    "#80% training (x_train)\n",
    "#20% test (x_test)\n",
    "\n",
    "print(f'x_train : {x_train.shape}')\n",
    "print(f'y_train : {y_train.shape}')\n",
    "print(f'x_test : {x_test.shape}')\n",
    "print(f'y_test : {y_test.shape}')\n",
    "\n",
    "rf_model = RandomForestClassifier()\n",
    "rf_model.fit(x_train, y_train)\n",
    "\n",
    "print('Plot of Random Forest without finetuning (originally it had all features and we selected top 5 to proceed to finetuning)')\n",
    "feat_importances = pd.Series(rf_model.feature_importances_, index=x.columns)\n",
    "feat_importances.nlargest(20).plot(kind='barh')\n",
    "plt.title(\"Feature Importances\")\n",
    "plt.show()\n"
   ]
  },
  {
   "cell_type": "code",
   "execution_count": 6,
   "id": "37cf0091",
   "metadata": {},
   "outputs": [
    {
     "name": "stdout",
     "output_type": "stream",
     "text": [
      "Grid search best score: 0.9368801313628901\n",
      "Grid search best parameters: {'criterion': 'entropy', 'max_depth': 3, 'min_samples_leaf': 1, 'min_samples_split': 5, 'n_estimators': 100}\n"
     ]
    }
   ],
   "source": [
    "param_grid = [{\n",
    "    'n_estimators':[100,200,500], #More trees = better performance up to a point, then diminishing returns.\n",
    "    'max_depth': [3, 5, 10, 20], #higher the values the more we risk overfitting\n",
    "    'criterion': ['entropy', 'gini'], #can also comment this out\n",
    "    'min_samples_split': [5,10,15], # minimum number of samples a node must have to be split into two child nodes in a decision tree. Default is 2 (canm overfit)\n",
    "    'min_samples_leaf': [1, 2, 4]#,\n",
    "    #'max_features': ['sqrt', 'log2', None]\n",
    "\n",
    "}]\n",
    "\n",
    "skf = StratifiedKFold(n_splits=5, shuffle=True, random_state=99)\n",
    "grid_search = GridSearchCV(rf_model,\n",
    "                           param_grid,\n",
    "                           cv=skf, #this splits testing data to test and validation based on cancer/non-cancer proportions (so they have same percentage of cancer)\n",
    "                                    #if we use this, we dont have to split training data ourselves at the beginning\n",
    "                           scoring = 'recall',\n",
    "                           n_jobs=-1,                          \n",
    "                           )\n",
    "\n",
    "grid_search.fit(x_train, y_train)\n",
    "\n",
    "print(f'Grid search best score: {grid_search.best_score_}')\n",
    "print(f'Grid search best parameters: {grid_search.best_params_}')\n",
    "\n",
    "#Training the rf with what criteria recomended by grid search (= best parameters)\n",
    "best_params = grid_search.best_params_"
   ]
  },
  {
   "cell_type": "code",
   "execution_count": 11,
   "id": "7faa4511",
   "metadata": {},
   "outputs": [
    {
     "name": "stdout",
     "output_type": "stream",
     "text": [
      "Train Report:\n",
      "              precision    recall  f1-score   support\n",
      "\n",
      "           0       0.67      0.37      0.47       308\n",
      "           1       0.81      0.94      0.87       871\n",
      "\n",
      "    accuracy                           0.79      1179\n",
      "   macro avg       0.74      0.65      0.67      1179\n",
      "weighted avg       0.77      0.79      0.76      1179\n",
      "\n",
      "Confusion Matrix:\n",
      " [[113 195]\n",
      " [ 55 816]]\n",
      "\n",
      "Test Report:\n",
      "              precision    recall  f1-score   support\n",
      "\n",
      "           0       0.56      0.38      0.45        77\n",
      "           1       0.80      0.89      0.85       218\n",
      "\n",
      "    accuracy                           0.76       295\n",
      "   macro avg       0.68      0.64      0.65       295\n",
      "weighted avg       0.74      0.76      0.74       295\n",
      "\n",
      "Confusion Matrix:\n",
      " [[ 29  48]\n",
      " [ 23 195]]\n"
     ]
    },
    {
     "data": {
      "image/png": "[encoded data removed]",
      "text/plain": [
       "<Figure size 640x480 with 1 Axes>"
      ]
     },
     "metadata": {},
     "output_type": "display_data"
    },
    {
     "name": "stdout",
     "output_type": "stream",
     "text": [
      "{'criterion': 'entropy', 'max_depth': 3, 'min_samples_leaf': 1, 'min_samples_split': 5, 'n_estimators': 200}\n"
     ]
    }
   ],
   "source": [
    "rf_final = RandomForestClassifier(**best_params, random_state=101) #if we want to increase recall for 0 (lower false positive), add here: class_weight='balanced'\n",
    "rf_final.fit(x_train, y_train)\n",
    "\n",
    "#Evaluating on training and test set\n",
    "y_pred = rf_final.predict(x_train)\n",
    "print(\"Train Report:\")\n",
    "print(classification_report(y_train, y_pred))\n",
    "print(\"Confusion Matrix:\\n\", confusion_matrix(y_train, y_pred))\n",
    "\n",
    "y_test_pred = rf_final.predict(x_test)\n",
    "print(\"\\nTest Report:\")\n",
    "print(classification_report(y_test, y_test_pred))\n",
    "print(\"Confusion Matrix:\\n\", confusion_matrix(y_test, y_test_pred))\n",
    "\n",
    "feat_importances = pd.Series(rf_final.feature_importances_, index=x.columns)\n",
    "feat_importances.nlargest(20).plot(kind='barh')\n",
    "plt.title(\"Feature Importances\")\n",
    "plt.show()\n",
    "\n",
    "# top performing features = bleed, elevation, hurt, grew, itch, smoke, changed, pesticide, cancer_history, skin_cancer history\n",
    "\n",
    "print(best_params)"
   ]
  },
  {
   "cell_type": "code",
   "execution_count": null,
   "id": "91025b4b",
   "metadata": {},
   "outputs": [
    {
     "name": "stdout",
     "output_type": "stream",
     "text": [
      "Threshold\tRecall_0\tRecall_1\tTotal_Accuracy\n",
      "--------------------------------------------------\n",
      "0.30\t\t0.00\t\t1.00\t\t0.74\n",
      "0.35\t\t0.00\t\t1.00\t\t0.74\n",
      "0.40\t\t0.00\t\t1.00\t\t0.74\n",
      "0.45\t\t0.24\t\t0.97\t\t0.78\n",
      "0.50\t\t0.37\t\t0.94\t\t0.79\n",
      "0.55\t\t0.38\t\t0.94\t\t0.79\n",
      "0.60\t\t0.38\t\t0.94\t\t0.79\n",
      "0.65\t\t0.48\t\t0.87\t\t0.77\n",
      "0.70\t\t0.65\t\t0.78\t\t0.75\n",
      "0.75\t\t0.86\t\t0.56\t\t0.64\n",
      "0.80\t\t0.93\t\t0.46\t\t0.58\n",
      "0.85\t\t0.93\t\t0.44\t\t0.57\n",
      "0.90\t\t0.94\t\t0.35\t\t0.50\n"
     ]
    }
   ],
   "source": [
    "#If we wanted to change the recall for healthy people, we could adjust the threshold for classifying something as cancer - but it didnt make much difference in this model (1 percent better recall on 0)\n",
    "probs_val = rf_final.predict_proba(x_train)[:, 1]\n",
    "\n",
    "thresholds = np.arange(0.3, 0.91, 0.05)\n",
    "\n",
    "print(\"Threshold\\tRecall_0\\tRecall_1\\tTotal_Accuracy\")\n",
    "print(\"-\" * 50)\n",
    "\n",
    "best_thresh = 0.5\n",
    "best_recall_1 = 0\n",
    "best_report = \"\"\n",
    "\n",
    "for thresh in thresholds:\n",
    "    preds = (probs_val >= thresh).astype(int)\n",
    "    recall_0 = recall_score(y_train, preds, pos_label=0)\n",
    "    recall_1 = recall_score(y_train, preds, pos_label=1)\n",
    "    accuracy = (preds == y_train).mean()\n",
    "    \n",
    "    print(f\"{thresh:.2f}\\t\\t{recall_0:.2f}\\t\\t{recall_1:.2f}\\t\\t{accuracy:.2f}\")"
   ]
  },
  {
   "cell_type": "markdown",
   "id": "e5daa178",
   "metadata": {},
   "source": [
    "Trying a different model (including diameter)\n",
    "\n"
   ]
  },
  {
   "cell_type": "code",
   "execution_count": null,
   "id": "bbdc8f7b",
   "metadata": {},
   "outputs": [
    {
     "ename": "KeyError",
     "evalue": "\"['diameter2'] not in index\"",
     "output_type": "error",
     "traceback": [
      "\u001b[31m---------------------------------------------------------------------------\u001b[39m",
      "\u001b[31mKeyError\u001b[39m                                  Traceback (most recent call last)",
      "\u001b[36mCell\u001b[39m\u001b[36m \u001b[39m\u001b[32mIn[3]\u001b[39m\u001b[32m, line 14\u001b[39m\n\u001b[32m     12\u001b[39m best_features = [\u001b[33m'\u001b[39m\u001b[33mitch\u001b[39m\u001b[33m'\u001b[39m,\u001b[33m'\u001b[39m\u001b[33mgrew\u001b[39m\u001b[33m'\u001b[39m,\u001b[33m'\u001b[39m\u001b[33mhurt\u001b[39m\u001b[33m'\u001b[39m,\u001b[33m'\u001b[39m\u001b[33mbleed\u001b[39m\u001b[33m'\u001b[39m,\u001b[33m'\u001b[39m\u001b[33melevation\u001b[39m\u001b[33m'\u001b[39m, \u001b[33m'\u001b[39m\u001b[33mdiameter2\u001b[39m\u001b[33m'\u001b[39m]\n\u001b[32m     13\u001b[39m \u001b[38;5;66;03m#best_features = \u001b[39;00m\n\u001b[32m---> \u001b[39m\u001b[32m14\u001b[39m x = \u001b[43mdf\u001b[49m\u001b[43m[\u001b[49m\u001b[43mbest_features\u001b[49m\u001b[43m]\u001b[49m\n\u001b[32m     16\u001b[39m \u001b[38;5;66;03m#Deviding into train and test\u001b[39;00m\n\u001b[32m     17\u001b[39m x_train, x_test, y_train, y_test = train_test_split(x, y, test_size=\u001b[32m0.2\u001b[39m, stratify=y, random_state=\u001b[32m101\u001b[39m) \u001b[38;5;66;03m#stratify = y makes sure that both training and test sets preserve the original class proportions.\u001b[39;00m\n",
      "\u001b[36mFile \u001b[39m\u001b[32mc:\\Users\\Mirka Gemelova\\anaconda3\\envs\\pds\\Lib\\site-packages\\pandas\\core\\frame.py:4108\u001b[39m, in \u001b[36mDataFrame.__getitem__\u001b[39m\u001b[34m(self, key)\u001b[39m\n\u001b[32m   4106\u001b[39m     \u001b[38;5;28;01mif\u001b[39;00m is_iterator(key):\n\u001b[32m   4107\u001b[39m         key = \u001b[38;5;28mlist\u001b[39m(key)\n\u001b[32m-> \u001b[39m\u001b[32m4108\u001b[39m     indexer = \u001b[38;5;28;43mself\u001b[39;49m\u001b[43m.\u001b[49m\u001b[43mcolumns\u001b[49m\u001b[43m.\u001b[49m\u001b[43m_get_indexer_strict\u001b[49m\u001b[43m(\u001b[49m\u001b[43mkey\u001b[49m\u001b[43m,\u001b[49m\u001b[43m \u001b[49m\u001b[33;43m\"\u001b[39;49m\u001b[33;43mcolumns\u001b[39;49m\u001b[33;43m\"\u001b[39;49m\u001b[43m)\u001b[49m[\u001b[32m1\u001b[39m]\n\u001b[32m   4110\u001b[39m \u001b[38;5;66;03m# take() does not accept boolean indexers\u001b[39;00m\n\u001b[32m   4111\u001b[39m \u001b[38;5;28;01mif\u001b[39;00m \u001b[38;5;28mgetattr\u001b[39m(indexer, \u001b[33m\"\u001b[39m\u001b[33mdtype\u001b[39m\u001b[33m\"\u001b[39m, \u001b[38;5;28;01mNone\u001b[39;00m) == \u001b[38;5;28mbool\u001b[39m:\n",
      "\u001b[36mFile \u001b[39m\u001b[32mc:\\Users\\Mirka Gemelova\\anaconda3\\envs\\pds\\Lib\\site-packages\\pandas\\core\\indexes\\base.py:6200\u001b[39m, in \u001b[36mIndex._get_indexer_strict\u001b[39m\u001b[34m(self, key, axis_name)\u001b[39m\n\u001b[32m   6197\u001b[39m \u001b[38;5;28;01melse\u001b[39;00m:\n\u001b[32m   6198\u001b[39m     keyarr, indexer, new_indexer = \u001b[38;5;28mself\u001b[39m._reindex_non_unique(keyarr)\n\u001b[32m-> \u001b[39m\u001b[32m6200\u001b[39m \u001b[38;5;28;43mself\u001b[39;49m\u001b[43m.\u001b[49m\u001b[43m_raise_if_missing\u001b[49m\u001b[43m(\u001b[49m\u001b[43mkeyarr\u001b[49m\u001b[43m,\u001b[49m\u001b[43m \u001b[49m\u001b[43mindexer\u001b[49m\u001b[43m,\u001b[49m\u001b[43m \u001b[49m\u001b[43maxis_name\u001b[49m\u001b[43m)\u001b[49m\n\u001b[32m   6202\u001b[39m keyarr = \u001b[38;5;28mself\u001b[39m.take(indexer)\n\u001b[32m   6203\u001b[39m \u001b[38;5;28;01mif\u001b[39;00m \u001b[38;5;28misinstance\u001b[39m(key, Index):\n\u001b[32m   6204\u001b[39m     \u001b[38;5;66;03m# GH 42790 - Preserve name from an Index\u001b[39;00m\n",
      "\u001b[36mFile \u001b[39m\u001b[32mc:\\Users\\Mirka Gemelova\\anaconda3\\envs\\pds\\Lib\\site-packages\\pandas\\core\\indexes\\base.py:6252\u001b[39m, in \u001b[36mIndex._raise_if_missing\u001b[39m\u001b[34m(self, key, indexer, axis_name)\u001b[39m\n\u001b[32m   6249\u001b[39m     \u001b[38;5;28;01mraise\u001b[39;00m \u001b[38;5;167;01mKeyError\u001b[39;00m(\u001b[33mf\u001b[39m\u001b[33m\"\u001b[39m\u001b[33mNone of [\u001b[39m\u001b[38;5;132;01m{\u001b[39;00mkey\u001b[38;5;132;01m}\u001b[39;00m\u001b[33m] are in the [\u001b[39m\u001b[38;5;132;01m{\u001b[39;00maxis_name\u001b[38;5;132;01m}\u001b[39;00m\u001b[33m]\u001b[39m\u001b[33m\"\u001b[39m)\n\u001b[32m   6251\u001b[39m not_found = \u001b[38;5;28mlist\u001b[39m(ensure_index(key)[missing_mask.nonzero()[\u001b[32m0\u001b[39m]].unique())\n\u001b[32m-> \u001b[39m\u001b[32m6252\u001b[39m \u001b[38;5;28;01mraise\u001b[39;00m \u001b[38;5;167;01mKeyError\u001b[39;00m(\u001b[33mf\u001b[39m\u001b[33m\"\u001b[39m\u001b[38;5;132;01m{\u001b[39;00mnot_found\u001b[38;5;132;01m}\u001b[39;00m\u001b[33m not in index\u001b[39m\u001b[33m\"\u001b[39m)\n",
      "\u001b[31mKeyError\u001b[39m: \"['diameter2'] not in index\""
     ]
    }
   ],
   "source": [
    "\n"
   ]
  }
 ],
 "metadata": {
  "kernelspec": {
   "display_name": "pds",
   "language": "python",
   "name": "python3"
  },
  "language_info": {
   "codemirror_mode": {
    "name": "ipython",
    "version": 3
   },
   "file_extension": ".py",
   "mimetype": "text/x-python",
   "name": "python",
   "nbconvert_exporter": "python",
   "pygments_lexer": "ipython3",
   "version": "3.12.9"
  }
 },
 "nbformat": 4,
 "nbformat_minor": 5
}
