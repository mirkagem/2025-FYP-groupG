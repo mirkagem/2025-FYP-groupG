{
 "cells": [
  {
   "cell_type": "code",
   "execution_count": 32,
   "id": "df6ed251",
   "metadata": {},
   "outputs": [],
   "source": [
    "import pandas as pd\n",
    "from sklearn.ensemble import RandomForestClassifier\n",
    "from sklearn.model_selection import train_test_split, StratifiedKFold, GridSearchCV\n",
    "from sklearn.metrics import accuracy_score, classification_report, confusion_matrix\n",
    "import matplotlib.pyplot as plt\n",
    "import seaborn as sns"
   ]
  },
  {
   "cell_type": "code",
   "execution_count": 40,
   "id": "8fbdcdba",
   "metadata": {},
   "outputs": [],
   "source": [
    "#Combined model\n",
    "df_images = pd.read_csv(r\"C:\\Users\\Mirka Gemelova\\OneDrive - ITU\\Dokumenty\\ITU\\DS_project\\2025-FYP-groupG\\model_features.csv\")\n",
    "df_images2 = pd.read_csv(r\"C:\\Users\\Mirka Gemelova\\Downloads\\features2.csv\")\n",
    "df_metadata = pd.read_csv(r\"C:\\Users\\Mirka Gemelova\\OneDrive - ITU\\Dokumenty\\ITU\\DS_project\\2025-FYP-groupG\\important files to be deleted\\metadata.csv\")\n",
    "combined_df = combined_df.dropna()\n"
   ]
  },
  {
   "cell_type": "code",
   "execution_count": 34,
   "id": "b84ba57f",
   "metadata": {},
   "outputs": [
    {
     "name": "stdout",
     "output_type": "stream",
     "text": [
      "(2298, 26)\n",
      "(1473, 7)\n",
      "(1473, 33)\n"
     ]
    }
   ],
   "source": [
    "print(df_metadata.shape) #ImageID of removed image: PAT_987_1859_859\n",
    "print(df_images.shape)\n",
    "df_images['img_id'] = df_images2['ID']\n",
    "combined_df = pd.merge(df_images, df_metadata, on='img_id', how='inner')\n",
    "print(combined_df.shape)"
   ]
  },
  {
   "cell_type": "code",
   "execution_count": 37,
   "id": "f5008e85",
   "metadata": {},
   "outputs": [
    {
     "name": "stderr",
     "output_type": "stream",
     "text": [
      "C:\\Users\\Mirka Gemelova\\AppData\\Local\\Temp\\ipykernel_29296\\2042539058.py:2: FutureWarning: Downcasting behavior in `replace` is deprecated and will be removed in a future version. To retain the old behavior, explicitly call `result.infer_objects(copy=False)`. To opt-in to the future behavior, set `pd.set_option('future.no_silent_downcasting', True)`\n",
      "  combined_df.replace(\"True\", 1, inplace=True)\n",
      "C:\\Users\\Mirka Gemelova\\AppData\\Local\\Temp\\ipykernel_29296\\2042539058.py:5: FutureWarning: Downcasting behavior in `replace` is deprecated and will be removed in a future version. To retain the old behavior, explicitly call `result.infer_objects(copy=False)`. To opt-in to the future behavior, set `pd.set_option('future.no_silent_downcasting', True)`\n",
      "  combined_df.replace(False, 0, inplace=True)\n",
      "C:\\Users\\Mirka Gemelova\\AppData\\Local\\Temp\\ipykernel_29296\\2042539058.py:6: FutureWarning: Downcasting behavior in `replace` is deprecated and will be removed in a future version. To retain the old behavior, explicitly call `result.infer_objects(copy=False)`. To opt-in to the future behavior, set `pd.set_option('future.no_silent_downcasting', True)`\n",
      "  combined_df.replace(\"UNK\", float(\"NaN\"), inplace=True)\n"
     ]
    }
   ],
   "source": [
    "#Data cleaning to be suitable for model\n",
    "combined_df.replace(\"True\", 1, inplace=True)\n",
    "combined_df.replace(\"False\", 0, inplace=True)\n",
    "combined_df.replace(True, 1, inplace=True)\n",
    "combined_df.replace(False, 0, inplace=True)\n",
    "combined_df.replace(\"UNK\", float(\"NaN\"), inplace=True)"
   ]
  },
  {
   "cell_type": "code",
   "execution_count": 41,
   "id": "22465f61",
   "metadata": {},
   "outputs": [
    {
     "name": "stdout",
     "output_type": "stream",
     "text": [
      "Index(['A - worst asymmetry', 'B - compactness', 'C - red variance',\n",
      "       'C - green variance', 'C - blue variance', 'Hair', 'Cancer', 'smoke',\n",
      "       'drink', 'age', 'pesticide', 'gender', 'skin_cancer_history',\n",
      "       'cancer_history', 'diameter_1', 'diameter_2', 'itch', 'grew', 'hurt',\n",
      "       'changed', 'bleed', 'elevation'],\n",
      "      dtype='object')\n"
     ]
    },
    {
     "data": {
      "text/html": [
       "<div>\n",
       "<style scoped>\n",
       "    .dataframe tbody tr th:only-of-type {\n",
       "        vertical-align: middle;\n",
       "    }\n",
       "\n",
       "    .dataframe tbody tr th {\n",
       "        vertical-align: top;\n",
       "    }\n",
       "\n",
       "    .dataframe thead th {\n",
       "        text-align: right;\n",
       "    }\n",
       "</style>\n",
       "<table border=\"1\" class=\"dataframe\">\n",
       "  <thead>\n",
       "    <tr style=\"text-align: right;\">\n",
       "      <th></th>\n",
       "      <th>A - worst asymmetry</th>\n",
       "      <th>B - compactness</th>\n",
       "      <th>C - red variance</th>\n",
       "      <th>C - green variance</th>\n",
       "      <th>C - blue variance</th>\n",
       "      <th>Hair</th>\n",
       "      <th>Cancer</th>\n",
       "      <th>smoke</th>\n",
       "      <th>drink</th>\n",
       "      <th>age</th>\n",
       "      <th>...</th>\n",
       "      <th>skin_cancer_history</th>\n",
       "      <th>cancer_history</th>\n",
       "      <th>diameter_1</th>\n",
       "      <th>diameter_2</th>\n",
       "      <th>itch</th>\n",
       "      <th>grew</th>\n",
       "      <th>hurt</th>\n",
       "      <th>changed</th>\n",
       "      <th>bleed</th>\n",
       "      <th>elevation</th>\n",
       "    </tr>\n",
       "  </thead>\n",
       "  <tbody>\n",
       "    <tr>\n",
       "      <th>0</th>\n",
       "      <td>8.580224e+08</td>\n",
       "      <td>30.588197</td>\n",
       "      <td>74.546797</td>\n",
       "      <td>85.081084</td>\n",
       "      <td>86.207771</td>\n",
       "      <td>0.083847</td>\n",
       "      <td>0</td>\n",
       "      <td>0</td>\n",
       "      <td>0</td>\n",
       "      <td>14</td>\n",
       "      <td>...</td>\n",
       "      <td>0</td>\n",
       "      <td>1</td>\n",
       "      <td>7.0</td>\n",
       "      <td>3.0</td>\n",
       "      <td>0.0</td>\n",
       "      <td>0.0</td>\n",
       "      <td>0.0</td>\n",
       "      <td>0.0</td>\n",
       "      <td>0.0</td>\n",
       "      <td>0.0</td>\n",
       "    </tr>\n",
       "    <tr>\n",
       "      <th>1</th>\n",
       "      <td>3.190781e+06</td>\n",
       "      <td>201.571233</td>\n",
       "      <td>0.282972</td>\n",
       "      <td>0.534548</td>\n",
       "      <td>0.588560</td>\n",
       "      <td>0.031879</td>\n",
       "      <td>0</td>\n",
       "      <td>0</td>\n",
       "      <td>0</td>\n",
       "      <td>14</td>\n",
       "      <td>...</td>\n",
       "      <td>0</td>\n",
       "      <td>1</td>\n",
       "      <td>7.0</td>\n",
       "      <td>3.0</td>\n",
       "      <td>0.0</td>\n",
       "      <td>0.0</td>\n",
       "      <td>0.0</td>\n",
       "      <td>0.0</td>\n",
       "      <td>0.0</td>\n",
       "      <td>0.0</td>\n",
       "    </tr>\n",
       "    <tr>\n",
       "      <th>2</th>\n",
       "      <td>2.408456e+06</td>\n",
       "      <td>-1.067555</td>\n",
       "      <td>0.366330</td>\n",
       "      <td>0.496921</td>\n",
       "      <td>0.588388</td>\n",
       "      <td>0.070319</td>\n",
       "      <td>1</td>\n",
       "      <td>1</td>\n",
       "      <td>1</td>\n",
       "      <td>59</td>\n",
       "      <td>...</td>\n",
       "      <td>0</td>\n",
       "      <td>0</td>\n",
       "      <td>20.0</td>\n",
       "      <td>15.0</td>\n",
       "      <td>1.0</td>\n",
       "      <td>1.0</td>\n",
       "      <td>1.0</td>\n",
       "      <td>0.0</td>\n",
       "      <td>1.0</td>\n",
       "      <td>1.0</td>\n",
       "    </tr>\n",
       "    <tr>\n",
       "      <th>3</th>\n",
       "      <td>1.853331e+06</td>\n",
       "      <td>-2.390464</td>\n",
       "      <td>2.952702</td>\n",
       "      <td>3.592146</td>\n",
       "      <td>4.158397</td>\n",
       "      <td>0.197232</td>\n",
       "      <td>1</td>\n",
       "      <td>1</td>\n",
       "      <td>1</td>\n",
       "      <td>59</td>\n",
       "      <td>...</td>\n",
       "      <td>0</td>\n",
       "      <td>0</td>\n",
       "      <td>20.0</td>\n",
       "      <td>15.0</td>\n",
       "      <td>1.0</td>\n",
       "      <td>1.0</td>\n",
       "      <td>1.0</td>\n",
       "      <td>0.0</td>\n",
       "      <td>1.0</td>\n",
       "      <td>1.0</td>\n",
       "    </tr>\n",
       "    <tr>\n",
       "      <th>4</th>\n",
       "      <td>2.544890e+06</td>\n",
       "      <td>0.713480</td>\n",
       "      <td>0.615600</td>\n",
       "      <td>2.970867</td>\n",
       "      <td>3.926450</td>\n",
       "      <td>0.083589</td>\n",
       "      <td>1</td>\n",
       "      <td>1</td>\n",
       "      <td>1</td>\n",
       "      <td>59</td>\n",
       "      <td>...</td>\n",
       "      <td>0</td>\n",
       "      <td>0</td>\n",
       "      <td>20.0</td>\n",
       "      <td>15.0</td>\n",
       "      <td>1.0</td>\n",
       "      <td>1.0</td>\n",
       "      <td>1.0</td>\n",
       "      <td>0.0</td>\n",
       "      <td>1.0</td>\n",
       "      <td>1.0</td>\n",
       "    </tr>\n",
       "  </tbody>\n",
       "</table>\n",
       "<p>5 rows × 22 columns</p>\n",
       "</div>"
      ],
      "text/plain": [
       "   A - worst asymmetry  B - compactness  C - red variance  C - green variance  \\\n",
       "0         8.580224e+08        30.588197         74.546797           85.081084   \n",
       "1         3.190781e+06       201.571233          0.282972            0.534548   \n",
       "2         2.408456e+06        -1.067555          0.366330            0.496921   \n",
       "3         1.853331e+06        -2.390464          2.952702            3.592146   \n",
       "4         2.544890e+06         0.713480          0.615600            2.970867   \n",
       "\n",
       "   C - blue variance      Hair  Cancer  smoke  drink  age  ...  \\\n",
       "0          86.207771  0.083847       0      0      0   14  ...   \n",
       "1           0.588560  0.031879       0      0      0   14  ...   \n",
       "2           0.588388  0.070319       1      1      1   59  ...   \n",
       "3           4.158397  0.197232       1      1      1   59  ...   \n",
       "4           3.926450  0.083589       1      1      1   59  ...   \n",
       "\n",
       "   skin_cancer_history cancer_history  diameter_1  diameter_2  itch  grew  \\\n",
       "0                    0              1         7.0         3.0   0.0   0.0   \n",
       "1                    0              1         7.0         3.0   0.0   0.0   \n",
       "2                    0              0        20.0        15.0   1.0   1.0   \n",
       "3                    0              0        20.0        15.0   1.0   1.0   \n",
       "4                    0              0        20.0        15.0   1.0   1.0   \n",
       "\n",
       "   hurt  changed  bleed  elevation  \n",
       "0   0.0      0.0    0.0        0.0  \n",
       "1   0.0      0.0    0.0        0.0  \n",
       "2   1.0      0.0    1.0        1.0  \n",
       "3   1.0      0.0    1.0        1.0  \n",
       "4   1.0      0.0    1.0        1.0  \n",
       "\n",
       "[5 rows x 22 columns]"
      ]
     },
     "execution_count": 41,
     "metadata": {},
     "output_type": "execute_result"
    }
   ],
   "source": [
    "combined_df = combined_df.drop(columns=['biopsed','img_id','patient_id', 'lesion_id', 'background_father',\n",
    "      'background_mother', 'has_piped_water',\n",
    "      'has_sewage_system', 'fitspatrick', 'region', 'diagnostic'])\n",
    "\n",
    "print(combined_df.columns)\n",
    "combined_df.head(5)"
   ]
  },
  {
   "cell_type": "code",
   "execution_count": 62,
   "id": "e3123176",
   "metadata": {},
   "outputs": [
    {
     "name": "stdout",
     "output_type": "stream",
     "text": [
      "x_train : (791, 13)\n",
      "y_train : (791,)\n",
      "x_test : (198, 13)\n",
      "y_test : (198,)\n"
     ]
    },
    {
     "data": {
      "image/png": "[encoded data removed]",
      "text/plain": [
       "<Figure size 640x480 with 1 Axes>"
      ]
     },
     "metadata": {},
     "output_type": "display_data"
    }
   ],
   "source": [
    "features_to_include = ['A - worst asymmetry', 'B - compactness', 'C - red variance',\n",
    "       'C - green variance', 'C - blue variance', \n",
    "       'bleed', 'elevation', 'grew', 'hurt', 'itch', 'diameter_2', 'pesticide', \n",
    "       'smoke']\n",
    "\n",
    "y = combined_df['Cancer'].copy()\n",
    "x = combined_df[features_to_include]\n",
    "x_train, x_test, y_train, y_test = train_test_split(x, y, test_size=0.2, stratify=y, random_state=101) #stratify = y makes sure that both training and test sets preserve the original class proportions.\n",
    "\n",
    "print(f'x_train : {x_train.shape}')\n",
    "print(f'y_train : {y_train.shape}')\n",
    "print(f'x_test : {x_test.shape}')\n",
    "print(f'y_test : {y_test.shape}')\n",
    "\n",
    "rf_model = RandomForestClassifier()\n",
    "rf_model.fit(x_train, y_train)\n",
    "\n",
    "feat_importances = pd.Series(rf_model.feature_importances_, index=x.columns)\n",
    "feat_importances.nlargest(20).plot(kind='barh')\n",
    "plt.title(\"Feature Importances\")\n",
    "plt.show()"
   ]
  },
  {
   "cell_type": "code",
   "execution_count": 63,
   "id": "0539be7e",
   "metadata": {},
   "outputs": [
    {
     "name": "stdout",
     "output_type": "stream",
     "text": [
      "Grid search best score: 0.947139282735613\n",
      "Grid search best parameters: {'criterion': 'entropy', 'max_depth': 3, 'min_samples_leaf': 4, 'min_samples_split': 10, 'n_estimators': 100}\n"
     ]
    }
   ],
   "source": [
    "param_grid = [{\n",
    "    'n_estimators':[100,200,500], #More trees = better performance up to a point, then diminishing returns.\n",
    "    'max_depth': [3, 5, 10, 20], #higher the values the more we risk overfitting\n",
    "    'criterion': ['entropy', 'gini'], #can also comment this out\n",
    "    'min_samples_split': [5,10,15], # minimum number of samples a node must have to be split into two child nodes in a decision tree. Default is 2 (canm overfit)\n",
    "    'min_samples_leaf': [1, 2, 4]#,\n",
    "    #'max_features': ['sqrt', None]\n",
    "\n",
    "}]\n",
    "\n",
    "skf = StratifiedKFold(n_splits=5, shuffle=True, random_state=99)\n",
    "grid_search = GridSearchCV(rf_model,\n",
    "                           param_grid,\n",
    "                           cv=skf, #this splits testing data to test and validation based on cancer/non-cancer proportions (so they have same percentage of cancer)\n",
    "                                    #if we use this, we dont have to split training data ourselves at the beginning\n",
    "                           scoring = 'recall',\n",
    "                           n_jobs=-1,                          \n",
    "                           )\n",
    "\n",
    "grid_search.fit(x_train, y_train)\n",
    "\n",
    "print(f'Grid search best score: {grid_search.best_score_}')\n",
    "print(f'Grid search best parameters: {grid_search.best_params_}')\n",
    "\n",
    "#Training the rf with what criteria recomended by grid search (= best parameters)\n",
    "best_params = grid_search.best_params_"
   ]
  },
  {
   "cell_type": "code",
   "execution_count": null,
   "id": "7c118cd5",
   "metadata": {},
   "outputs": [
    {
     "data": {
      "image/png": "[encoded data removed]",
      "text/plain": [
       "<Figure size 640x480 with 2 Axes>"
      ]
     },
     "metadata": {},
     "output_type": "display_data"
    },
    {
     "data": {
      "text/html": [
       "<div>\n",
       "<style scoped>\n",
       "    .dataframe tbody tr th:only-of-type {\n",
       "        vertical-align: middle;\n",
       "    }\n",
       "\n",
       "    .dataframe tbody tr th {\n",
       "        vertical-align: top;\n",
       "    }\n",
       "\n",
       "    .dataframe thead th {\n",
       "        text-align: right;\n",
       "    }\n",
       "</style>\n",
       "<table border=\"1\" class=\"dataframe\">\n",
       "  <thead>\n",
       "    <tr style=\"text-align: right;\">\n",
       "      <th></th>\n",
       "      <th>diameter_1</th>\n",
       "      <th>diameter_2</th>\n",
       "      <th>Cancer</th>\n",
       "    </tr>\n",
       "  </thead>\n",
       "  <tbody>\n",
       "    <tr>\n",
       "      <th>diameter_1</th>\n",
       "      <td>1.000000</td>\n",
       "      <td>0.869063</td>\n",
       "      <td>0.106564</td>\n",
       "    </tr>\n",
       "    <tr>\n",
       "      <th>diameter_2</th>\n",
       "      <td>0.869063</td>\n",
       "      <td>1.000000</td>\n",
       "      <td>0.110892</td>\n",
       "    </tr>\n",
       "    <tr>\n",
       "      <th>Cancer</th>\n",
       "      <td>0.106564</td>\n",
       "      <td>0.110892</td>\n",
       "      <td>1.000000</td>\n",
       "    </tr>\n",
       "  </tbody>\n",
       "</table>\n",
       "</div>"
      ],
      "text/plain": [
       "            diameter_1  diameter_2    Cancer\n",
       "diameter_1    1.000000    0.869063  0.106564\n",
       "diameter_2    0.869063    1.000000  0.110892\n",
       "Cancer        0.106564    0.110892  1.000000"
      ]
     },
     "execution_count": 53,
     "metadata": {},
     "output_type": "execute_result"
    }
   ],
   "source": [
    "corr = combined_df[['diameter_1', 'diameter_2']].corr()\n",
    "sns.heatmap(corr, annot=True)\n",
    "plt.show()\n",
    "2\n",
    "combined_df[['diameter_1', 'diameter_2', 'Cancer']].corr()"
   ]
  },
  {
   "cell_type": "code",
   "execution_count": null,
   "id": "107eed07",
   "metadata": {},
   "outputs": [
    {
     "data": {
      "text/plain": [
       "Cancer                 1.000000\n",
       "grew                   0.416786\n",
       "bleed                  0.357533\n",
       "elevation              0.341569\n",
       "hurt                   0.262078\n",
       "diameter_2             0.110892\n",
       "diameter_2             0.110892\n",
       "diameter_1             0.106564\n",
       "smoke                  0.085737\n",
       "itch                   0.070621\n",
       "pesticide              0.055429\n",
       "pesticide              0.055429\n",
       "drink                  0.046641\n",
       "age                    0.042979\n",
       "skin_cancer_history    0.008945\n",
       "cancer_history        -0.002468\n",
       "cancer_history        -0.002468\n",
       "C - green variance    -0.021594\n",
       "C - red variance      -0.022197\n",
       "C - blue variance     -0.032448\n",
       "B - compactness       -0.059254\n",
       "A - worst asymmetry   -0.075649\n",
       "Name: Cancer, dtype: float64"
      ]
     },
     "execution_count": 60,
     "metadata": {},
     "output_type": "execute_result"
    }
   ],
   "source": [
    "combined_df[features_to_include + ['Cancer']].corr()['Cancer'].sort_values(ascending=False)\n",
    "\n",
    "#our criteria: use everything above 0.05 correlation\n",
    "# grew                   0.416786\n",
    "# bleed                  0.357533\n",
    "# elevation              0.341569\n",
    "# hurt                   0.262078\n",
    "# diameter_2             0.110892\n",
    "# diameter_2             0.110892\n",
    "# diameter_1             0.106564\n",
    "# smoke                  0.085737\n",
    "# itch                   0.070621"
   ]
  },
  {
   "cell_type": "code",
   "execution_count": null,
   "id": "cbda78ba",
   "metadata": {},
   "outputs": [],
   "source": []
  }
 ],
 "metadata": {
  "kernelspec": {
   "display_name": "pds",
   "language": "python",
   "name": "python3"
  },
  "language_info": {
   "codemirror_mode": {
    "name": "ipython",
    "version": 3
   },
   "file_extension": ".py",
   "mimetype": "text/x-python",
   "name": "python",
   "nbconvert_exporter": "python",
   "pygments_lexer": "ipython3",
   "version": "3.12.9"
  }
 },
 "nbformat": 4,
 "nbformat_minor": 5
}
