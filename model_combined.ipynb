{
 "cells": [
  {
   "cell_type": "code",
   "execution_count": 86,
   "id": "df6ed251",
   "metadata": {},
   "outputs": [],
   "source": [
    "import pandas as pd\n",
    "from sklearn.ensemble import RandomForestClassifier\n",
    "from sklearn.model_selection import train_test_split, StratifiedKFold, GridSearchCV\n",
    "from sklearn.metrics import accuracy_score, classification_report, confusion_matrix\n",
    "import matplotlib.pyplot as plt\n",
    "import seaborn as sns"
   ]
  },
  {
   "cell_type": "code",
   "execution_count": 87,
   "id": "8fbdcdba",
   "metadata": {},
   "outputs": [],
   "source": [
    "#Combined model\n",
    "df_images = pd.read_csv(r\"C:\\Users\\Mirka Gemelova\\OneDrive - ITU\\Dokumenty\\ITU\\DS_project\\2025-FYP-groupG\\model_features.csv\")\n",
    "df_images2 = pd.read_csv(r\"C:\\Users\\Mirka Gemelova\\Downloads\\features2.csv\")\n",
    "df_metadata = pd.read_csv(r\"C:\\Users\\Mirka Gemelova\\OneDrive - ITU\\Dokumenty\\ITU\\DS_project\\2025-FYP-groupG\\important files to be deleted\\metadata.csv\")\n",
    "combined_df = combined_df.dropna()\n"
   ]
  },
  {
   "cell_type": "code",
   "execution_count": 88,
   "id": "b84ba57f",
   "metadata": {},
   "outputs": [
    {
     "name": "stdout",
     "output_type": "stream",
     "text": [
      "(2298, 26)\n",
      "(1473, 7)\n",
      "(1473, 33)\n"
     ]
    }
   ],
   "source": [
    "print(df_metadata.shape) #ImageID of removed image: PAT_987_1859_859\n",
    "print(df_images.shape)\n",
    "df_images['img_id'] = df_images2['ID']\n",
    "combined_df = pd.merge(df_images, df_metadata, on='img_id', how='inner')\n",
    "print(combined_df.shape)\n",
    "combined_df2 = combined_df.copy()"
   ]
  },
  {
   "cell_type": "code",
   "execution_count": 89,
   "id": "f5008e85",
   "metadata": {},
   "outputs": [
    {
     "name": "stderr",
     "output_type": "stream",
     "text": [
      "C:\\Users\\Mirka Gemelova\\AppData\\Local\\Temp\\ipykernel_29296\\2042539058.py:2: FutureWarning: Downcasting behavior in `replace` is deprecated and will be removed in a future version. To retain the old behavior, explicitly call `result.infer_objects(copy=False)`. To opt-in to the future behavior, set `pd.set_option('future.no_silent_downcasting', True)`\n",
      "  combined_df.replace(\"True\", 1, inplace=True)\n",
      "C:\\Users\\Mirka Gemelova\\AppData\\Local\\Temp\\ipykernel_29296\\2042539058.py:5: FutureWarning: Downcasting behavior in `replace` is deprecated and will be removed in a future version. To retain the old behavior, explicitly call `result.infer_objects(copy=False)`. To opt-in to the future behavior, set `pd.set_option('future.no_silent_downcasting', True)`\n",
      "  combined_df.replace(False, 0, inplace=True)\n",
      "C:\\Users\\Mirka Gemelova\\AppData\\Local\\Temp\\ipykernel_29296\\2042539058.py:6: FutureWarning: Downcasting behavior in `replace` is deprecated and will be removed in a future version. To retain the old behavior, explicitly call `result.infer_objects(copy=False)`. To opt-in to the future behavior, set `pd.set_option('future.no_silent_downcasting', True)`\n",
      "  combined_df.replace(\"UNK\", float(\"NaN\"), inplace=True)\n"
     ]
    }
   ],
   "source": [
    "#Data cleaning to be suitable for model\n",
    "combined_df.replace(\"True\", 1, inplace=True)\n",
    "combined_df.replace(\"False\", 0, inplace=True)\n",
    "combined_df.replace(True, 1, inplace=True)\n",
    "combined_df.replace(False, 0, inplace=True)\n",
    "combined_df.replace(\"UNK\", float(\"NaN\"), inplace=True)"
   ]
  },
  {
   "cell_type": "code",
   "execution_count": 90,
   "id": "22465f61",
   "metadata": {},
   "outputs": [
    {
     "name": "stdout",
     "output_type": "stream",
     "text": [
      "Index(['A - worst asymmetry', 'B - compactness', 'C - red variance',\n",
      "       'C - green variance', 'C - blue variance', 'Hair', 'Cancer', 'smoke',\n",
      "       'drink', 'age', 'pesticide', 'gender', 'skin_cancer_history',\n",
      "       'cancer_history', 'diameter_1', 'diameter_2', 'itch', 'grew', 'hurt',\n",
      "       'changed', 'bleed', 'elevation'],\n",
      "      dtype='object')\n"
     ]
    },
    {
     "data": {
      "text/html": [
       "<div>\n",
       "<style scoped>\n",
       "    .dataframe tbody tr th:only-of-type {\n",
       "        vertical-align: middle;\n",
       "    }\n",
       "\n",
       "    .dataframe tbody tr th {\n",
       "        vertical-align: top;\n",
       "    }\n",
       "\n",
       "    .dataframe thead th {\n",
       "        text-align: right;\n",
       "    }\n",
       "</style>\n",
       "<table border=\"1\" class=\"dataframe\">\n",
       "  <thead>\n",
       "    <tr style=\"text-align: right;\">\n",
       "      <th></th>\n",
       "      <th>A - worst asymmetry</th>\n",
       "      <th>B - compactness</th>\n",
       "      <th>C - red variance</th>\n",
       "      <th>C - green variance</th>\n",
       "      <th>C - blue variance</th>\n",
       "      <th>Hair</th>\n",
       "      <th>Cancer</th>\n",
       "      <th>smoke</th>\n",
       "      <th>drink</th>\n",
       "      <th>age</th>\n",
       "      <th>...</th>\n",
       "      <th>skin_cancer_history</th>\n",
       "      <th>cancer_history</th>\n",
       "      <th>diameter_1</th>\n",
       "      <th>diameter_2</th>\n",
       "      <th>itch</th>\n",
       "      <th>grew</th>\n",
       "      <th>hurt</th>\n",
       "      <th>changed</th>\n",
       "      <th>bleed</th>\n",
       "      <th>elevation</th>\n",
       "    </tr>\n",
       "  </thead>\n",
       "  <tbody>\n",
       "    <tr>\n",
       "      <th>0</th>\n",
       "      <td>8.580224e+08</td>\n",
       "      <td>30.588197</td>\n",
       "      <td>74.546797</td>\n",
       "      <td>85.081084</td>\n",
       "      <td>86.207771</td>\n",
       "      <td>0.083847</td>\n",
       "      <td>0</td>\n",
       "      <td>0</td>\n",
       "      <td>0</td>\n",
       "      <td>14</td>\n",
       "      <td>...</td>\n",
       "      <td>0</td>\n",
       "      <td>1</td>\n",
       "      <td>7.0</td>\n",
       "      <td>3.0</td>\n",
       "      <td>0.0</td>\n",
       "      <td>0.0</td>\n",
       "      <td>0.0</td>\n",
       "      <td>0.0</td>\n",
       "      <td>0.0</td>\n",
       "      <td>0.0</td>\n",
       "    </tr>\n",
       "    <tr>\n",
       "      <th>1</th>\n",
       "      <td>3.190781e+06</td>\n",
       "      <td>201.571233</td>\n",
       "      <td>0.282972</td>\n",
       "      <td>0.534548</td>\n",
       "      <td>0.588560</td>\n",
       "      <td>0.031879</td>\n",
       "      <td>0</td>\n",
       "      <td>0</td>\n",
       "      <td>0</td>\n",
       "      <td>14</td>\n",
       "      <td>...</td>\n",
       "      <td>0</td>\n",
       "      <td>1</td>\n",
       "      <td>7.0</td>\n",
       "      <td>3.0</td>\n",
       "      <td>0.0</td>\n",
       "      <td>0.0</td>\n",
       "      <td>0.0</td>\n",
       "      <td>0.0</td>\n",
       "      <td>0.0</td>\n",
       "      <td>0.0</td>\n",
       "    </tr>\n",
       "    <tr>\n",
       "      <th>2</th>\n",
       "      <td>2.408456e+06</td>\n",
       "      <td>-1.067555</td>\n",
       "      <td>0.366330</td>\n",
       "      <td>0.496921</td>\n",
       "      <td>0.588388</td>\n",
       "      <td>0.070319</td>\n",
       "      <td>1</td>\n",
       "      <td>1</td>\n",
       "      <td>1</td>\n",
       "      <td>59</td>\n",
       "      <td>...</td>\n",
       "      <td>0</td>\n",
       "      <td>0</td>\n",
       "      <td>20.0</td>\n",
       "      <td>15.0</td>\n",
       "      <td>1.0</td>\n",
       "      <td>1.0</td>\n",
       "      <td>1.0</td>\n",
       "      <td>0.0</td>\n",
       "      <td>1.0</td>\n",
       "      <td>1.0</td>\n",
       "    </tr>\n",
       "    <tr>\n",
       "      <th>3</th>\n",
       "      <td>1.853331e+06</td>\n",
       "      <td>-2.390464</td>\n",
       "      <td>2.952702</td>\n",
       "      <td>3.592146</td>\n",
       "      <td>4.158397</td>\n",
       "      <td>0.197232</td>\n",
       "      <td>1</td>\n",
       "      <td>1</td>\n",
       "      <td>1</td>\n",
       "      <td>59</td>\n",
       "      <td>...</td>\n",
       "      <td>0</td>\n",
       "      <td>0</td>\n",
       "      <td>20.0</td>\n",
       "      <td>15.0</td>\n",
       "      <td>1.0</td>\n",
       "      <td>1.0</td>\n",
       "      <td>1.0</td>\n",
       "      <td>0.0</td>\n",
       "      <td>1.0</td>\n",
       "      <td>1.0</td>\n",
       "    </tr>\n",
       "    <tr>\n",
       "      <th>4</th>\n",
       "      <td>2.544890e+06</td>\n",
       "      <td>0.713480</td>\n",
       "      <td>0.615600</td>\n",
       "      <td>2.970867</td>\n",
       "      <td>3.926450</td>\n",
       "      <td>0.083589</td>\n",
       "      <td>1</td>\n",
       "      <td>1</td>\n",
       "      <td>1</td>\n",
       "      <td>59</td>\n",
       "      <td>...</td>\n",
       "      <td>0</td>\n",
       "      <td>0</td>\n",
       "      <td>20.0</td>\n",
       "      <td>15.0</td>\n",
       "      <td>1.0</td>\n",
       "      <td>1.0</td>\n",
       "      <td>1.0</td>\n",
       "      <td>0.0</td>\n",
       "      <td>1.0</td>\n",
       "      <td>1.0</td>\n",
       "    </tr>\n",
       "  </tbody>\n",
       "</table>\n",
       "<p>5 rows × 22 columns</p>\n",
       "</div>"
      ],
      "text/plain": [
       "   A - worst asymmetry  B - compactness  C - red variance  C - green variance  \\\n",
       "0         8.580224e+08        30.588197         74.546797           85.081084   \n",
       "1         3.190781e+06       201.571233          0.282972            0.534548   \n",
       "2         2.408456e+06        -1.067555          0.366330            0.496921   \n",
       "3         1.853331e+06        -2.390464          2.952702            3.592146   \n",
       "4         2.544890e+06         0.713480          0.615600            2.970867   \n",
       "\n",
       "   C - blue variance      Hair  Cancer  smoke  drink  age  ...  \\\n",
       "0          86.207771  0.083847       0      0      0   14  ...   \n",
       "1           0.588560  0.031879       0      0      0   14  ...   \n",
       "2           0.588388  0.070319       1      1      1   59  ...   \n",
       "3           4.158397  0.197232       1      1      1   59  ...   \n",
       "4           3.926450  0.083589       1      1      1   59  ...   \n",
       "\n",
       "   skin_cancer_history cancer_history  diameter_1  diameter_2  itch  grew  \\\n",
       "0                    0              1         7.0         3.0   0.0   0.0   \n",
       "1                    0              1         7.0         3.0   0.0   0.0   \n",
       "2                    0              0        20.0        15.0   1.0   1.0   \n",
       "3                    0              0        20.0        15.0   1.0   1.0   \n",
       "4                    0              0        20.0        15.0   1.0   1.0   \n",
       "\n",
       "   hurt  changed  bleed  elevation  \n",
       "0   0.0      0.0    0.0        0.0  \n",
       "1   0.0      0.0    0.0        0.0  \n",
       "2   1.0      0.0    1.0        1.0  \n",
       "3   1.0      0.0    1.0        1.0  \n",
       "4   1.0      0.0    1.0        1.0  \n",
       "\n",
       "[5 rows x 22 columns]"
      ]
     },
     "execution_count": 90,
     "metadata": {},
     "output_type": "execute_result"
    }
   ],
   "source": [
    "combined_df = combined_df.drop(columns=['biopsed','img_id','patient_id', 'lesion_id', 'background_father',\n",
    "      'background_mother', 'has_piped_water',\n",
    "      'has_sewage_system', 'fitspatrick', 'region', 'diagnostic'])\n",
    "\n",
    "print(combined_df.columns)\n",
    "combined_df.head(5)"
   ]
  },
  {
   "cell_type": "code",
   "execution_count": 91,
   "id": "77c8269e",
   "metadata": {},
   "outputs": [
    {
     "data": {
      "text/plain": [
       "(1473, 22)"
      ]
     },
     "execution_count": 91,
     "metadata": {},
     "output_type": "execute_result"
    }
   ],
   "source": [
    "combined_df.shape"
   ]
  },
  {
   "cell_type": "code",
   "execution_count": 92,
   "id": "e3123176",
   "metadata": {},
   "outputs": [
    {
     "name": "stdout",
     "output_type": "stream",
     "text": [
      "x_train : (1178, 11)\n",
      "y_train : (1178,)\n",
      "x_test : (295, 11)\n",
      "y_test : (295,)\n"
     ]
    },
    {
     "data": {
      "image/png": "[encoded data removed]",
      "text/plain": [
       "<Figure size 640x480 with 1 Axes>"
      ]
     },
     "metadata": {},
     "output_type": "display_data"
    }
   ],
   "source": [
    "features_to_include = ['A - worst asymmetry', 'B - compactness', 'C - red variance',\n",
    "       'C - green variance', 'C - blue variance', \n",
    "       'bleed', 'elevation', 'grew', 'hurt', 'itch', 'diameter_2']\n",
    "\n",
    "y = combined_df['Cancer'].copy()\n",
    "x = combined_df[features_to_include]\n",
    "x_train, x_test, y_train, y_test = train_test_split(x, y, test_size=0.2, stratify=y, random_state=101) #stratify = y makes sure that both training and test sets preserve the original class proportions.\n",
    "\n",
    "print(f'x_train : {x_train.shape}')\n",
    "print(f'y_train : {y_train.shape}')\n",
    "print(f'x_test : {x_test.shape}')\n",
    "print(f'y_test : {y_test.shape}')\n",
    "\n",
    "rf_model = RandomForestClassifier()\n",
    "rf_model.fit(x_train, y_train)\n",
    "\n",
    "feat_importances = pd.Series(rf_model.feature_importances_, index=x.columns)\n",
    "feat_importances.nlargest(20).plot(kind='barh')\n",
    "plt.title(\"Feature Importances\")\n",
    "plt.show()"
   ]
  },
  {
   "cell_type": "code",
   "execution_count": 93,
   "id": "0539be7e",
   "metadata": {},
   "outputs": [
    {
     "name": "stdout",
     "output_type": "stream",
     "text": [
      "Grid search best score: 0.9666995073891625\n",
      "Grid search best parameters: {'criterion': 'entropy', 'max_depth': 3, 'min_samples_leaf': 4, 'min_samples_split': 5, 'n_estimators': 100}\n"
     ]
    }
   ],
   "source": [
    "param_grid = [{\n",
    "    'n_estimators':[100,200,500], #More trees = better performance up to a point, then diminishing returns.\n",
    "    'max_depth': [3, 5, 10, 20], #higher the values the more we risk overfitting\n",
    "    'criterion': ['entropy', 'gini'], #can also comment this out\n",
    "    'min_samples_split': [5,10,15], # minimum number of samples a node must have to be split into two child nodes in a decision tree. Default is 2 (canm overfit)\n",
    "    'min_samples_leaf': [1, 2, 4]#,\n",
    "    #'max_features': ['sqrt', None]\n",
    "\n",
    "}]\n",
    "\n",
    "skf = StratifiedKFold(n_splits=5, shuffle=True, random_state=99)\n",
    "grid_search = GridSearchCV(rf_model,\n",
    "                           param_grid,\n",
    "                           cv=skf, #this splits testing data to test and validation based on cancer/non-cancer proportions (so they have same percentage of cancer)\n",
    "                                    #if we use this, we dont have to split training data ourselves at the beginning\n",
    "                           scoring = 'recall',\n",
    "                           n_jobs=-1,                          \n",
    "                           )\n",
    "\n",
    "grid_search.fit(x_train, y_train)\n",
    "\n",
    "print(f'Grid search best score: {grid_search.best_score_}')\n",
    "print(f'Grid search best parameters: {grid_search.best_params_}')\n",
    "\n",
    "#Training the rf with what criteria recomended by grid search (= best parameters)\n",
    "best_params = grid_search.best_params_"
   ]
  },
  {
   "cell_type": "code",
   "execution_count": 94,
   "id": "f4908584",
   "metadata": {},
   "outputs": [
    {
     "name": "stdout",
     "output_type": "stream",
     "text": [
      "Train Report:\n",
      "              precision    recall  f1-score   support\n",
      "\n",
      "           0       0.78      0.33      0.47       307\n",
      "           1       0.80      0.97      0.88       871\n",
      "\n",
      "    accuracy                           0.80      1178\n",
      "   macro avg       0.79      0.65      0.67      1178\n",
      "weighted avg       0.80      0.80      0.77      1178\n",
      "\n",
      "Confusion Matrix:\n",
      " [[102 205]\n",
      " [ 28 843]]\n",
      "\n",
      "Test Report:\n",
      "              precision    recall  f1-score   support\n",
      "\n",
      "           0       0.78      0.40      0.53        77\n",
      "           1       0.82      0.96      0.88       218\n",
      "\n",
      "    accuracy                           0.81       295\n",
      "   macro avg       0.80      0.68      0.71       295\n",
      "weighted avg       0.81      0.81      0.79       295\n",
      "\n",
      "Confusion Matrix:\n",
      " [[ 31  46]\n",
      " [  9 209]]\n"
     ]
    },
    {
     "data": {
      "image/png": "[encoded data removed]",
      "text/plain": [
       "<Figure size 640x480 with 1 Axes>"
      ]
     },
     "metadata": {},
     "output_type": "display_data"
    },
    {
     "name": "stdout",
     "output_type": "stream",
     "text": [
      "{'criterion': 'entropy', 'max_depth': 3, 'min_samples_leaf': 4, 'min_samples_split': 5, 'n_estimators': 100}\n"
     ]
    }
   ],
   "source": [
    "rf_final = RandomForestClassifier(**best_params, random_state=101) \n",
    "rf_final.fit(x_train, y_train)\n",
    "\n",
    "#Evaluating on training and test set\n",
    "y_pred = rf_final.predict(x_train)\n",
    "print(\"Train Report:\")\n",
    "print(classification_report(y_train, y_pred))\n",
    "print(\"Confusion Matrix:\\n\", confusion_matrix(y_train, y_pred))\n",
    "\n",
    "y_test_pred = rf_final.predict(x_test)\n",
    "print(\"\\nTest Report:\")\n",
    "print(classification_report(y_test, y_test_pred))\n",
    "print(\"Confusion Matrix:\\n\", confusion_matrix(y_test, y_test_pred))\n",
    "\n",
    "feat_importances = pd.Series(rf_final.feature_importances_, index=x.columns)\n",
    "feat_importances.nlargest(20).plot(kind='barh')\n",
    "plt.title(\"Feature Importances\")\n",
    "plt.show()\n",
    "\n",
    "# top performing features = bleed, elevation, hurt, grew, itch, smoke, changed, pesticide, cancer_history, skin_cancer history\n",
    "\n",
    "print(best_params)"
   ]
  },
  {
   "cell_type": "code",
   "execution_count": 95,
   "id": "107eed07",
   "metadata": {},
   "outputs": [
    {
     "name": "stdout",
     "output_type": "stream",
     "text": [
      "Cancer                 1.000000\n",
      "grew                   0.381559\n",
      "elevation              0.322112\n",
      "bleed                  0.299446\n",
      "hurt                   0.223536\n",
      "itch                   0.134777\n",
      "diameter_2             0.100437\n",
      "C - green variance    -0.031219\n",
      "C - red variance      -0.036823\n",
      "C - blue variance     -0.040868\n",
      "B - compactness       -0.055934\n",
      "A - worst asymmetry   -0.066298\n",
      "Name: Cancer, dtype: float64\n"
     ]
    },
    {
     "data": {
      "image/png": "[encoded data removed]",
      "text/plain": [
       "<Figure size 640x480 with 2 Axes>"
      ]
     },
     "metadata": {},
     "output_type": "display_data"
    },
    {
     "data": {
      "text/html": [
       "<div>\n",
       "<style scoped>\n",
       "    .dataframe tbody tr th:only-of-type {\n",
       "        vertical-align: middle;\n",
       "    }\n",
       "\n",
       "    .dataframe tbody tr th {\n",
       "        vertical-align: top;\n",
       "    }\n",
       "\n",
       "    .dataframe thead th {\n",
       "        text-align: right;\n",
       "    }\n",
       "</style>\n",
       "<table border=\"1\" class=\"dataframe\">\n",
       "  <thead>\n",
       "    <tr style=\"text-align: right;\">\n",
       "      <th></th>\n",
       "      <th>diameter_1</th>\n",
       "      <th>diameter_2</th>\n",
       "      <th>Cancer</th>\n",
       "    </tr>\n",
       "  </thead>\n",
       "  <tbody>\n",
       "    <tr>\n",
       "      <th>diameter_1</th>\n",
       "      <td>1.000000</td>\n",
       "      <td>0.858020</td>\n",
       "      <td>0.061889</td>\n",
       "    </tr>\n",
       "    <tr>\n",
       "      <th>diameter_2</th>\n",
       "      <td>0.858020</td>\n",
       "      <td>1.000000</td>\n",
       "      <td>0.100437</td>\n",
       "    </tr>\n",
       "    <tr>\n",
       "      <th>Cancer</th>\n",
       "      <td>0.061889</td>\n",
       "      <td>0.100437</td>\n",
       "      <td>1.000000</td>\n",
       "    </tr>\n",
       "  </tbody>\n",
       "</table>\n",
       "</div>"
      ],
      "text/plain": [
       "            diameter_1  diameter_2    Cancer\n",
       "diameter_1    1.000000    0.858020  0.061889\n",
       "diameter_2    0.858020    1.000000  0.100437\n",
       "Cancer        0.061889    0.100437  1.000000"
      ]
     },
     "execution_count": 95,
     "metadata": {},
     "output_type": "execute_result"
    }
   ],
   "source": [
    "\n",
    "#TO BE DELETED!!!! (or moved)\n",
    "\n",
    "print(combined_df[features_to_include + ['Cancer']].corr()['Cancer'].sort_values(ascending=False))\n",
    "\n",
    "#our criteria: use everything above 0.05 correlation\n",
    "# grew                   0.416786\n",
    "# bleed                  0.357533\n",
    "# elevation              0.341569\n",
    "# hurt                   0.262078\n",
    "# diameter_2             0.110892\n",
    "# diameter_2             0.110892\n",
    "# diameter_1             0.106564\n",
    "# smoke                  0.085737\n",
    "# itch                   0.070621\n",
    "\n",
    "corr = combined_df[['diameter_1', 'diameter_2']].corr()\n",
    "sns.heatmap(corr, annot=True)\n",
    "plt.show()\n",
    "2\n",
    "combined_df[['diameter_1', 'diameter_2', 'Cancer']].corr()"
   ]
  },
  {
   "cell_type": "code",
   "execution_count": null,
   "id": "cbda78ba",
   "metadata": {},
   "outputs": [
    {
     "data": {
      "image/png": "[encoded data removed]",
      "text/plain": [
       "<Figure size 640x480 with 1 Axes>"
      ]
     },
     "metadata": {},
     "output_type": "display_data"
    }
   ],
   "source": [
    "from sklearn.feature_selection import SelectKBest, mutual_info_classif\n",
    "from sklearn.model_selection import cross_validate\n",
    "from sklearn.tree import DecisionTreeClassifier\n",
    "from sklearn.feature_selection import SelectKBest, mutual_info_classif\n",
    "from sklearn.preprocessing import MinMaxScaler\n",
    "import pandas as pd\n",
    "import matplotlib.pyplot as plt\n",
    "\n",
    "\n",
    "abc_features = ['A - worst asymmetry', 'B - compactness', 'C - red variance',\n",
    "       'C - green variance', 'C - blue variance']\n",
    "metadata_features = ['grew', 'bleed', 'elevation', 'hurt', 'diameter_2','itch']\n",
    "lifestyle_features = ['smoke', 'drink']  #pesticides missing and wotter/sewage missing\n",
    "metadata_all = metadata_features + lifestyle_features\n",
    "\n",
    "combined_df2 = combined_df2.notna()\n",
    "\n",
    "\n",
    "X_meta = combined_df2[metadata_all]\n",
    "y = combined_df2['Cancer']\n",
    "\n",
    "# Ranking metadata features by mutual information\n",
    "selector = SelectKBest(mutual_info_classif, k='all')\n",
    "selector.fit(X_meta, y)\n",
    "\n",
    "# Sort features by importance\n",
    "importances = selector.scores_\n",
    "ranked_metadata = [f for f, _ in sorted(zip(metadata_features, importances), key=lambda x: x[1], reverse=True)]\n",
    "\n",
    "from sklearn.model_selection import cross_val_score\n",
    "from sklearn.tree import DecisionTreeClassifier\n",
    "import numpy as np\n",
    "\n",
    "scores = []\n",
    "\n",
    "for n in range(0, len(ranked_metadata) + 1):\n",
    "    current_features = abc_features + ranked_metadata[:n]\n",
    "    X = combined_df[current_features]\n",
    "    y = combined_df['Cancer']\n",
    "\n",
    "    model = DecisionTreeClassifier(random_state=42)\n",
    "    cv_score = cross_val_score(model, X, y, cv=5, scoring='recall').mean()\n",
    "    scores.append(cv_score)\n",
    "\n",
    "# Plot performance vs number of metadata features\n",
    "import matplotlib.pyplot as plt\n",
    "\n",
    "plt.plot(range(len(scores)), scores, marker='o')\n",
    "plt.xlabel('Number of Metadata Features Added')\n",
    "plt.ylabel('CV recall')\n",
    "plt.title('ABC + Metadata Performance')\n",
    "plt.grid(True)\n",
    "plt.show()\n",
    "\n"
   ]
  },
  {
   "cell_type": "code",
   "execution_count": null,
   "id": "35970ccf",
   "metadata": {},
   "outputs": [],
   "source": []
  }
 ],
 "metadata": {
  "kernelspec": {
   "display_name": "pds",
   "language": "python",
   "name": "python3"
  },
  "language_info": {
   "codemirror_mode": {
    "name": "ipython",
    "version": 3
   },
   "file_extension": ".py",
   "mimetype": "text/x-python",
   "name": "python",
   "nbconvert_exporter": "python",
   "pygments_lexer": "ipython3",
   "version": "3.12.9"
  }
 },
 "nbformat": 4,
 "nbformat_minor": 5
}
