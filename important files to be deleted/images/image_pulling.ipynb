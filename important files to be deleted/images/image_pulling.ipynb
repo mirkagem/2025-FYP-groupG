{
 "cells": [
  {
   "cell_type": "code",
   "execution_count": 4,
   "id": "de137b4b",
   "metadata": {},
   "outputs": [
    {
     "name": "stdout",
     "output_type": "stream",
     "text": [
      "✅ Done! 1474 images copied to C:/Users/anna-/OneDrive/Desktop/ITU/2nd semester/Projects in Data Science/Project/good_images\n"
     ]
    }
   ],
   "source": [
    "import os\n",
    "import pandas as pd\n",
    "import shutil\n",
    "\n",
    "def copy_images_from_csv(input_folder, csv_path, output_folder):\n",
    "    os.makedirs(output_folder, exist_ok=True)\n",
    "    \n",
    "    df = pd.read_csv(csv_path)\n",
    "    \n",
    "    # Correct column name for image filenames\n",
    "    image_names = df['img_id'].astype(str).tolist()\n",
    "\n",
    "    copied_count = 0\n",
    "    for image_name in image_names:\n",
    "        input_path = os.path.join(input_folder, image_name)\n",
    "        if os.path.exists(input_path):\n",
    "            shutil.copy(input_path, output_folder)\n",
    "            copied_count += 1\n",
    "        else:\n",
    "            print(f\"Warning: {image_name} not found in {input_folder}\")\n",
    "\n",
    "    print(f\"✅ Done! {copied_count} images copied to {output_folder}\")\n",
    "\n",
    "\n",
    "input_folder = \"C:/Users/anna-/OneDrive/Desktop/ITU/2nd semester/Projects in Data Science/Project/Data\"\n",
    "csv_path = \"C:/Users/anna-/OneDrive/Desktop/ITU/2nd semester/Projects in Data Science/Project/pictures\"\n",
    "output_folder = \"C:/Users/anna-/OneDrive/Desktop/ITU/2nd semester/Projects in Data Science/Project/good_images\"\n",
    "\n",
    "copy_images_from_csv(input_folder, csv_path, output_folder)"
   ]
  },
  {
   "cell_type": "code",
   "execution_count": null,
   "id": "e807fae3",
   "metadata": {},
   "outputs": [],
   "source": []
  }
 ],
 "metadata": {
  "kernelspec": {
   "display_name": "Python 3",
   "language": "python",
   "name": "python3"
  },
  "language_info": {
   "codemirror_mode": {
    "name": "ipython",
    "version": 3
   },
   "file_extension": ".py",
   "mimetype": "text/x-python",
   "name": "python",
   "nbconvert_exporter": "python",
   "pygments_lexer": "ipython3",
   "version": "3.12.6"
  }
 },
 "nbformat": 4,
 "nbformat_minor": 5
}
