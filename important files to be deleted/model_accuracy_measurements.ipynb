{
 "cells": [
  {
   "cell_type": "code",
   "execution_count": 169,
   "id": "6956a970",
   "metadata": {},
   "outputs": [],
   "source": [
    "import numpy as np\n",
    "import pandas as pd"
   ]
  },
  {
   "cell_type": "code",
   "execution_count": 170,
   "id": "1df5a55d",
   "metadata": {},
   "outputs": [],
   "source": [
    "## Read and drop the index\n",
    "df=pd.read_csv(r\"C:\\Users\\MATEJ\\Documents\\BDS SEMESTER 2\\Projects in Data Science\\Project\\features.csv\",index_col=0)"
   ]
  },
  {
   "cell_type": "code",
   "execution_count": 171,
   "id": "74f8b5c9",
   "metadata": {},
   "outputs": [],
   "source": [
    "## Training and testing data\n",
    "from sklearn.model_selection import StratifiedKFold\n",
    "skf=StratifiedKFold(5,shuffle=True)\n",
    "\n",
    "## Split into features and cancer values\n",
    "X=df.drop(columns='Cancer')\n",
    "y=df['Cancer']\n",
    "\n",
    "## Split based on cancer values\n",
    "for train_idx, test_idx in skf.split(X, y):\n",
    "    train_df = df.iloc[train_idx]  # 80%\n",
    "    test_df = df.iloc[test_idx]    # 20%\n",
    "    break\n",
    "## Gives training data (80%) and testing data (20%)"
   ]
  },
  {
   "cell_type": "code",
   "execution_count": 172,
   "id": "d02df35b",
   "metadata": {},
   "outputs": [],
   "source": [
    "## Training and validation\n",
    "from sklearn.model_selection import StratifiedShuffleSplit\n",
    "sss = StratifiedShuffleSplit(n_splits=1, test_size=0.5) #-0.4\n",
    "\n",
    "## Split into features and cancer values\n",
    "X = train_df.drop(columns='Cancer')\n",
    "y = train_df['Cancer']\n",
    "\n",
    "## Split based on cancer values\n",
    "for train_idx, test_idx in sss.split(X, y):\n",
    "    train_df = df.iloc[train_idx]  # 60%\n",
    "    valid_df = df.iloc[test_idx]    # 40%\n",
    "## Takes previous training data\n",
    "## Gives training data (60%) and validation data (40%)"
   ]
  },
  {
   "cell_type": "code",
   "execution_count": 173,
   "id": "0d381cae",
   "metadata": {},
   "outputs": [],
   "source": [
    "# print('Number with cancer training',len(train_df[train_df['Cancer']==1]),'Number with cancer valid',len(valid_df[valid_df['Cancer']==1]))\n",
    "# print('Number w/o cancer training',len(train_df[train_df['Cancer']==0]),'Number with w/o valid',len(valid_df[valid_df['Cancer']==0]))\n",
    "# print('Number men training',len(train_df[train_df['Gender']==0]),'Number men valid',len(valid_df[valid_df['Cancer']==1]))\n",
    "# print('Number women',len(train_df[train_df['Gender']==1]),'Number women valid',len(valid_df[valid_df['Cancer']==1]))"
   ]
  },
  {
   "cell_type": "code",
   "execution_count": 174,
   "id": "c0a28b11",
   "metadata": {},
   "outputs": [],
   "source": [
    "## Remove 'Cancer' for normalizing features\n",
    "train_df_cancer=train_df.copy()\n",
    "train_df=train_df.drop(columns='Cancer')\n",
    "\n",
    "valid_df_cancer=valid_df.copy()\n",
    "valid_df=valid_df.drop(columns='Cancer')\n",
    "\n",
    "## Normalize the features\n",
    "from sklearn import preprocessing\n",
    "scaler = preprocessing.StandardScaler().fit(train_df)\n",
    "\n",
    "#Apply to data to both train and test test\n",
    "train_scaled = scaler.transform(train_df)\n",
    "valid_scaled = scaler.transform(valid_df)\n",
    "\n",
    "## Fetch column names, except \"Cancer\"\n",
    "columns=valid_df.columns\n",
    "train_df_scaled = pd.DataFrame(train_scaled,columns=columns,dtype=np.float64)\n",
    "valid_df_scaled= pd.DataFrame(valid_scaled,columns=columns,dtype=np.float64)"
   ]
  },
  {
   "cell_type": "code",
   "execution_count": 175,
   "id": "31aec950",
   "metadata": {},
   "outputs": [],
   "source": [
    "## Train a classifier\n",
    "from sklearn.neighbors import KNeighborsClassifier\n",
    "knn = KNeighborsClassifier()\n",
    "knntrained = knn.fit(train_df_scaled, train_df_cancer['Cancer']) ## Training data and cancer values"
   ]
  },
  {
   "cell_type": "code",
   "execution_count": 176,
   "id": "b2d3359d",
   "metadata": {},
   "outputs": [
    {
     "data": {
      "text/plain": [
       "0.475"
      ]
     },
     "execution_count": 176,
     "metadata": {},
     "output_type": "execute_result"
    }
   ],
   "source": [
    "## TEMP until we find a better way of finding accuracy\n",
    "from sklearn.metrics import accuracy_score\n",
    "predicted=knntrained.predict(valid_df_scaled)\n",
    "acc_knn = accuracy_score(valid_df_cancer['Cancer'], predicted)\n",
    "acc_knn\n",
    "\n",
    "#recall (tp/tp+fn) and roc score\n",
    "# F1 score\n",
    "# precision = tp/tp+fp"
   ]
  }
 ],
 "metadata": {
  "kernelspec": {
   "display_name": "base",
   "language": "python",
   "name": "python3"
  },
  "language_info": {
   "codemirror_mode": {
    "name": "ipython",
    "version": 3
   },
   "file_extension": ".py",
   "mimetype": "text/x-python",
   "name": "python",
   "nbconvert_exporter": "python",
   "pygments_lexer": "ipython3",
   "version": "3.12.4"
  }
 },
 "nbformat": 4,
 "nbformat_minor": 5
}
